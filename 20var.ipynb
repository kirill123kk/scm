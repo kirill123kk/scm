{
 "cells": [
  {
   "cell_type": "markdown",
   "metadata": {},
   "source": [
    "# 20. Условная оптимизация. Метод штрафных функций\n",
    "\n",
    "Рассмотрим один из многочисленных вариантов *метода штрафных функций*.\n",
    "Задача условной оптимизации\n",
    "$$\n",
    "   f(x) \\to \\min\n",
    "$$ \n",
    "при ограничениях \n",
    "$$\n",
    "g_1(x) = 0, \\dots, g_m(x) = 0, \\quad\n",
    "h_1(x) \\le 0, \\dots, h_p(x) \\le 0\n",
    "$$\n",
    "решается при помощи решения последовательности вспомогательных задач безусловной оптимизации:\n",
    "$$\n",
    "\\left(F(x) + c\\sum_{i=1}^m g(h_i)^2 + c\\sum_{k=1}^p \\left[ h(h_k) \\right]_+^2\\right) \\to \\min,\n",
    "$$\n",
    "где $c$ – некоторая возрастающая последовательность (например, геометрическая прогрессия),\n",
    "$[\\alpha]_+ = \\max\\{0,\\,\\alpha\\}$.\n",
    "\n",
    "Реализуйте данный метод. Для решения задачи безусловной оптимизации воспользуйтесь функциями из библиотеки SciPy.\n",
    "\n",
    "Проиллюстрируйте работу метода на двумерной и многомерных функциях Розенброка\n",
    "$$\n",
    "f(x_1,x_2,\\dots,x_n) = \\sum_{i=1}^{n-1} \\left(  (1-x_i)^2+ 100 (x_{i+1} - x_i^2 )^2 \\right) \n",
    "$$\n",
    "с линейными и квадратичными ограничениями.\n",
    "Для $n=2$ изобразите найденные точки минимума на каждой итерации.\n"
   ]
  },
  {
   "cell_type": "markdown",
   "metadata": {},
   "source": [
    "## Начало решение\n",
    "\n",
    "Составив систему из трёх уравнений, при помощью встроенного в SciPy метода minimize решим её методом Розенброка\n"
   ]
  },
  {
   "cell_type": "markdown",
   "metadata": {},
   "source": [
    "*Начальные данные:*  \n",
    "$$-a+4b+4=0$$  \n",
    "$$-a-2b+8=0$$   \n",
    "\n",
    "$$a-4b+4=0$$   \n",
    "\n"
   ]
  },
  {
   "cell_type": "markdown",
   "metadata": {},
   "source": [
    "Занесём данную систему уравнений как три отдельных уравнения"
   ]
  },
  {
   "cell_type": "code",
   "execution_count": 12,
   "metadata": {},
   "outputs": [],
   "source": [
    "from scipy.optimize import minimize"
   ]
  },
  {
   "cell_type": "code",
   "execution_count": 13,
   "metadata": {},
   "outputs": [],
   "source": [
    "x = lambda m: (-m[0] + 4 * m[1] + 4);\n",
    "y = lambda m: (-m[0] - 2 * m[1] + 8);\n",
    "z = lambda m: (m[0] - 4*m[1] + 4);"
   ]
  },
  {
   "cell_type": "markdown",
   "metadata": {},
   "source": [
    "### Способ один:\n",
    "Нашу систему решим методом штрафных функций.   \n",
    "Так как система подготовлена,то при исходной точке **w** и указании точности решения остаётся решить задачу безусловной оптимизации:"
   ]
  },
  {
   "cell_type": "code",
   "execution_count": 20,
   "metadata": {},
   "outputs": [
    {
     "name": "stdout",
     "output_type": "stream",
     "text": [
      "[0.99664861 0.98995318]\n",
      "1\n"
     ]
    }
   ],
   "source": [
    "n = 1\n",
    "w = 1\n",
    "b = 0.2\n",
    "for i in range(5):\n",
    "    #=====Методом штрафных функций=====\n",
    "    f = lambda m: rozenbrok(m) + w*(1.0/(x(m)**2 + y(m)**2 + z(m)**2)) \n",
    "    res = minimize(f, [6,7]).m;\n",
    "    w *= b;\n",
    "    n += 1\n",
    "    if f(res) < 0.005:\n",
    "        break\n",
    "print(res)\n",
    "print(i)"
   ]
  },
  {
   "cell_type": "markdown",
   "metadata": {},
   "source": [
    "Мы получили точки и кол-во итераций для нахождения онных.  \n",
    "  \n",
    "**Видим, что уравнение решается в одну итерацию, отсюда следует, что в графике нет смысла**"
   ]
  },
  {
   "cell_type": "markdown",
   "metadata": {},
   "source": [
    "### Способ два:  \n",
    "Решить эту же систему методом Розенброка по следующей формуле:\n"
   ]
  },
  {
   "cell_type": "code",
   "execution_count": 14,
   "metadata": {},
   "outputs": [],
   "source": [
    "rozenbrok = lambda m: (1-m[0])**2 + 100*(m[1] - m[0]**2)**2;"
   ]
  },
  {
   "cell_type": "markdown",
   "metadata": {},
   "source": [
    "Поиск глобального минимума данной функции"
   ]
  },
  {
   "cell_type": "code",
   "execution_count": 19,
   "metadata": {
    "scrolled": true
   },
   "outputs": [
    {
     "name": "stdout",
     "output_type": "stream",
     "text": [
      "[0.99972448 0.99956210]\n"
     ]
    }
   ],
   "source": [
    "minsize = minimize(rozenbrok, [2.2,3], constraints=cons)\n",
    "print(minsize.m)"
   ]
  },
  {
   "cell_type": "markdown",
   "metadata": {},
   "source": [
    "## Сравнение полученных результатов:\n",
    "\n",
    "\n",
    "По полученным результатам видим, что эти два способа похожи, но метод Розенброка более точный.  \n",
    "Оснавная задача в данной работе по решению методом штрафных функций и методом Розенброка была достигнута.\n"
   ]
  }
 ],
 "metadata": {
  "kernelspec": {
   "display_name": "Python 3",
   "language": "python",
   "name": "python3"
  },
  "language_info": {
   "codemirror_mode": {
    "name": "ipython",
    "version": 3
   },
   "file_extension": ".py",
   "mimetype": "text/x-python",
   "name": "python",
   "nbconvert_exporter": "python",
   "pygments_lexer": "ipython3",
   "version": "3.7.6"
  }
 },
 "nbformat": 4,
 "nbformat_minor": 4
}
